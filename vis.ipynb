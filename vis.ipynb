{
 "cells": [
  {
   "cell_type": "code",
   "execution_count": 1,
   "metadata": {},
   "outputs": [],
   "source": [
    "import json\n",
    "import pandas as pd\n",
    "import time\n",
    "import datetime\n",
    "from pyvis.network import Network"
   ]
  },
  {
   "cell_type": "code",
   "execution_count": 2,
   "metadata": {},
   "outputs": [],
   "source": [
    "ITERATIONS = 16\n",
    "wallet_address = 'bc1q4fdqv7z8mqk73rtgzk7qdxnzw675320gjar6xx'"
   ]
  },
  {
   "cell_type": "code",
   "execution_count": 3,
   "metadata": {},
   "outputs": [
    {
     "name": "stdout",
     "output_type": "stream",
     "text": [
      "opeing file tx0.json\n",
      "opeing file tx100.json\n",
      "opeing file tx200.json\n",
      "opeing file tx300.json\n",
      "opeing file tx400.json\n",
      "opeing file tx500.json\n",
      "opeing file tx600.json\n",
      "opeing file tx700.json\n",
      "opeing file tx800.json\n",
      "opeing file tx900.json\n",
      "opeing file tx1000.json\n",
      "opeing file tx1100.json\n",
      "opeing file tx1200.json\n",
      "opeing file tx1300.json\n",
      "opeing file tx1400.json\n",
      "opeing file tx1500.json\n",
      "opeing file tx1600.json\n",
      "1653\n"
     ]
    }
   ],
   "source": [
    "i = 0\n",
    "in_transactions_data = []\n",
    "count = 0\n",
    "while i <= ITERATIONS:\n",
    "    f_name = f'tx{i*100}.json'\n",
    "    print(f'opeing file {f_name}')\n",
    "    file = open(f_name, 'r')\n",
    "    txs = json.load(file)\n",
    "    address = 'bc1q4fdqv7z8mqk73rtgzk7qdxnzw675320gjar6xx'\n",
    "    \n",
    "    \n",
    "    for index in txs:\n",
    "        addresses = set()\n",
    "        tx = txs[index]\n",
    "        tx_hash = tx['hash']\n",
    "        tx_time = datetime.datetime.fromtimestamp(tx['time'])\n",
    "        inputs = tx['inputs']\n",
    "        outs = tx['out']\n",
    "        fee = tx['fee']\n",
    "        is_out_tx = False\n",
    "        tx_amount = 0\n",
    "        count += 1\n",
    "        for input in inputs:\n",
    "            prev = input['prev_out']\n",
    "            if prev['addr'] == address:\n",
    "                is_out_tx= True\n",
    "            else:\n",
    "                addresses.add(prev['addr'])\n",
    "\n",
    "        if not is_out_tx:\n",
    "            for out_tx in outs:\n",
    "                if out_tx['addr'] == address:\n",
    "                    tx_amount = float(out_tx['value']) * 0.00000001\n",
    "                    out_tx_address = out_tx['addr']\n",
    "                    in_transactions_data.append([tx_hash, tx_time, '##'.join(str(s) for s in addresses), tx_amount, out_tx_address])\n",
    "    i = i + 1\n",
    "print(count)"
   ]
  },
  {
   "cell_type": "code",
   "execution_count": 4,
   "metadata": {},
   "outputs": [
    {
     "name": "stdout",
     "output_type": "stream",
     "text": [
      "opeing file tx0.json\n",
      "opeing file tx100.json\n",
      "opeing file tx200.json\n",
      "opeing file tx300.json\n",
      "opeing file tx400.json\n",
      "opeing file tx500.json\n",
      "opeing file tx600.json\n",
      "opeing file tx700.json\n",
      "opeing file tx800.json\n",
      "opeing file tx900.json\n",
      "opeing file tx1000.json\n",
      "opeing file tx1100.json\n",
      "opeing file tx1200.json\n",
      "opeing file tx1300.json\n",
      "opeing file tx1400.json\n",
      "opeing file tx1500.json\n",
      "opeing file tx1600.json\n",
      "1653\n"
     ]
    }
   ],
   "source": [
    "i = 0\n",
    "out_transactions_data = []\n",
    "count = 0\n",
    "while i <= ITERATIONS:\n",
    "    f_name = f'tx{i*100}.json'\n",
    "    print(f'opeing file {f_name}')\n",
    "    file = open(f_name, 'r')\n",
    "    txs = json.load(file)\n",
    "    address = 'bc1q4fdqv7z8mqk73rtgzk7qdxnzw675320gjar6xx'\n",
    "    \n",
    "    for index in txs:\n",
    "        tx = txs[index]\n",
    "        tx_hash = tx['hash']\n",
    "        tx_time = datetime.datetime.fromtimestamp(tx['time'])\n",
    "        inputs = tx['inputs']\n",
    "        outs = tx['out']\n",
    "        is_out_tx = False\n",
    "        tx_amount = 0\n",
    "        count += 1\n",
    "        for input in inputs:\n",
    "            prev = input['prev_out']\n",
    "            if prev['addr'] == address:\n",
    "                is_out_tx= True\n",
    "\n",
    "        if is_out_tx:\n",
    "            out_tx = outs[0]\n",
    "            tx_amount = float(out_tx['value']) * 0.00000001\n",
    "            out_tx_address = out_tx['addr']\n",
    "            # print(f'{tx_hash}, {tx_time}, {address}, {tx_amount}, {out_tx_address}')\n",
    "            out_transactions_data.append([tx_hash, tx_time, address, tx_amount, out_tx_address])\n",
    "    i = i + 1\n",
    "print(count)"
   ]
  },
  {
   "cell_type": "code",
   "execution_count": 5,
   "metadata": {},
   "outputs": [],
   "source": [
    "out_df = pd.DataFrame(out_transactions_data, columns=['tx_hash', 'tx_date_time', 'from_addr', 'amount', 'to_addr'])\n",
    "in_df = pd.DataFrame(in_transactions_data, columns=['tx_hash', 'tx_date_time', 'from_addr', 'amount', 'to_addr'])"
   ]
  },
  {
   "cell_type": "code",
   "execution_count": 6,
   "metadata": {},
   "outputs": [],
   "source": [
    "net = Network(directed=True, width=1500, height=1000)"
   ]
  },
  {
   "cell_type": "code",
   "execution_count": 7,
   "metadata": {},
   "outputs": [],
   "source": [
    "net.add_node('bc1q4fdqv7z8mqk73rtgzk7qdxnzw675320gjar6xx')\n",
    "for address in out_df['to_addr']:\n",
    "    net.add_node(address, color='red')\n",
    "\n",
    "for address in in_df['from_addr']:\n",
    "    net.add_node(address, color='green')"
   ]
  },
  {
   "cell_type": "code",
   "execution_count": 8,
   "metadata": {},
   "outputs": [],
   "source": [
    "i = 0\n",
    "while i <= 477:\n",
    "    from_addr = out_df['from_addr'][i]\n",
    "    to_addr = out_df['to_addr'][i]\n",
    "    amount = out_df['amount'][i]\n",
    "    label = str(out_df['tx_date_time'][i])\n",
    "    net.add_edge(from_addr, to_addr, value=float(amount), title=label, color='red')\n",
    "    i += 1"
   ]
  },
  {
   "cell_type": "code",
   "execution_count": 9,
   "metadata": {},
   "outputs": [],
   "source": [
    "i = 0\n",
    "while i <= 1174:\n",
    "    from_addr = in_df['from_addr'][i]\n",
    "    to_addr = in_df['to_addr'][i]\n",
    "    amount = in_df['amount'][i]\n",
    "    label = str(in_df['tx_date_time'][i])\n",
    "    net.add_edge(from_addr, to_addr, value=float(amount), title=label, color='green')\n",
    "    i += 1"
   ]
  },
  {
   "cell_type": "code",
   "execution_count": 16,
   "metadata": {},
   "outputs": [
    {
     "name": "stdout",
     "output_type": "stream",
     "text": [
      "test.html\n"
     ]
    },
    {
     "ename": "AttributeError",
     "evalue": "'NoneType' object has no attribute 'render'",
     "output_type": "error",
     "traceback": [
      "\u001b[1;31m---------------------------------------------------------------------------\u001b[0m",
      "\u001b[1;31mAttributeError\u001b[0m                            Traceback (most recent call last)",
      "Cell \u001b[1;32mIn[16], line 2\u001b[0m\n\u001b[0;32m      1\u001b[0m net\u001b[39m.\u001b[39mshow_buttons(filter_\u001b[39m=\u001b[39m[\u001b[39m'\u001b[39m\u001b[39mphysics\u001b[39m\u001b[39m'\u001b[39m])\n\u001b[1;32m----> 2\u001b[0m net\u001b[39m.\u001b[39;49mshow(\u001b[39m'\u001b[39;49m\u001b[39mtest.html\u001b[39;49m\u001b[39m'\u001b[39;49m)\n",
      "File \u001b[1;32mc:\\Python311\\Lib\\site-packages\\pyvis\\network.py:546\u001b[0m, in \u001b[0;36mNetwork.show\u001b[1;34m(self, name, local, notebook)\u001b[0m\n\u001b[0;32m    544\u001b[0m \u001b[39mprint\u001b[39m(name)\n\u001b[0;32m    545\u001b[0m \u001b[39mif\u001b[39;00m notebook:\n\u001b[1;32m--> 546\u001b[0m     \u001b[39mself\u001b[39;49m\u001b[39m.\u001b[39;49mwrite_html(name, open_browser\u001b[39m=\u001b[39;49m\u001b[39mFalse\u001b[39;49;00m,notebook\u001b[39m=\u001b[39;49m\u001b[39mTrue\u001b[39;49;00m)\n\u001b[0;32m    547\u001b[0m \u001b[39melse\u001b[39;00m:\n\u001b[0;32m    548\u001b[0m     \u001b[39mself\u001b[39m\u001b[39m.\u001b[39mwrite_html(name, open_browser\u001b[39m=\u001b[39m\u001b[39mTrue\u001b[39;00m)\n",
      "File \u001b[1;32mc:\\Python311\\Lib\\site-packages\\pyvis\\network.py:515\u001b[0m, in \u001b[0;36mNetwork.write_html\u001b[1;34m(self, name, local, notebook, open_browser)\u001b[0m\n\u001b[0;32m    513\u001b[0m getcwd_name \u001b[39m=\u001b[39m name\n\u001b[0;32m    514\u001b[0m check_html(getcwd_name)\n\u001b[1;32m--> 515\u001b[0m \u001b[39mself\u001b[39m\u001b[39m.\u001b[39mhtml \u001b[39m=\u001b[39m \u001b[39mself\u001b[39;49m\u001b[39m.\u001b[39;49mgenerate_html(notebook\u001b[39m=\u001b[39;49mnotebook)\n\u001b[0;32m    517\u001b[0m \u001b[39mif\u001b[39;00m \u001b[39mself\u001b[39m\u001b[39m.\u001b[39mcdn_resources \u001b[39m==\u001b[39m \u001b[39m\"\u001b[39m\u001b[39mlocal\u001b[39m\u001b[39m\"\u001b[39m:\n\u001b[0;32m    518\u001b[0m     \u001b[39mif\u001b[39;00m \u001b[39mnot\u001b[39;00m os\u001b[39m.\u001b[39mpath\u001b[39m.\u001b[39mexists(\u001b[39m\"\u001b[39m\u001b[39mlib\u001b[39m\u001b[39m\"\u001b[39m):\n",
      "File \u001b[1;32mc:\\Python311\\Lib\\site-packages\\pyvis\\network.py:479\u001b[0m, in \u001b[0;36mNetwork.generate_html\u001b[1;34m(self, name, local, notebook)\u001b[0m\n\u001b[0;32m    476\u001b[0m \u001b[39melse\u001b[39;00m:\n\u001b[0;32m    477\u001b[0m     physics_enabled \u001b[39m=\u001b[39m \u001b[39mself\u001b[39m\u001b[39m.\u001b[39moptions\u001b[39m.\u001b[39mphysics\u001b[39m.\u001b[39menabled\n\u001b[1;32m--> 479\u001b[0m \u001b[39mself\u001b[39m\u001b[39m.\u001b[39mhtml \u001b[39m=\u001b[39m template\u001b[39m.\u001b[39;49mrender(height\u001b[39m=\u001b[39mheight,\n\u001b[0;32m    480\u001b[0m                             width\u001b[39m=\u001b[39mwidth,\n\u001b[0;32m    481\u001b[0m                             nodes\u001b[39m=\u001b[39mnodes,\n\u001b[0;32m    482\u001b[0m                             edges\u001b[39m=\u001b[39medges,\n\u001b[0;32m    483\u001b[0m                             heading\u001b[39m=\u001b[39mheading,\n\u001b[0;32m    484\u001b[0m                             options\u001b[39m=\u001b[39moptions,\n\u001b[0;32m    485\u001b[0m                             physics_enabled\u001b[39m=\u001b[39mphysics_enabled,\n\u001b[0;32m    486\u001b[0m                             use_DOT\u001b[39m=\u001b[39m\u001b[39mself\u001b[39m\u001b[39m.\u001b[39muse_DOT,\n\u001b[0;32m    487\u001b[0m                             dot_lang\u001b[39m=\u001b[39m\u001b[39mself\u001b[39m\u001b[39m.\u001b[39mdot_lang,\n\u001b[0;32m    488\u001b[0m                             widget\u001b[39m=\u001b[39m\u001b[39mself\u001b[39m\u001b[39m.\u001b[39mwidget,\n\u001b[0;32m    489\u001b[0m                             bgcolor\u001b[39m=\u001b[39m\u001b[39mself\u001b[39m\u001b[39m.\u001b[39mbgcolor,\n\u001b[0;32m    490\u001b[0m                             conf\u001b[39m=\u001b[39m\u001b[39mself\u001b[39m\u001b[39m.\u001b[39mconf,\n\u001b[0;32m    491\u001b[0m                             tooltip_link\u001b[39m=\u001b[39muse_link_template,\n\u001b[0;32m    492\u001b[0m                             neighborhood_highlight\u001b[39m=\u001b[39m\u001b[39mself\u001b[39m\u001b[39m.\u001b[39mneighborhood_highlight,\n\u001b[0;32m    493\u001b[0m                             select_menu\u001b[39m=\u001b[39m\u001b[39mself\u001b[39m\u001b[39m.\u001b[39mselect_menu,\n\u001b[0;32m    494\u001b[0m                             filter_menu\u001b[39m=\u001b[39m\u001b[39mself\u001b[39m\u001b[39m.\u001b[39mfilter_menu,\n\u001b[0;32m    495\u001b[0m                             notebook\u001b[39m=\u001b[39mnotebook,\n\u001b[0;32m    496\u001b[0m                             cdn_resources\u001b[39m=\u001b[39m\u001b[39mself\u001b[39m\u001b[39m.\u001b[39mcdn_resources\n\u001b[0;32m    497\u001b[0m                             )\n\u001b[0;32m    498\u001b[0m \u001b[39mreturn\u001b[39;00m \u001b[39mself\u001b[39m\u001b[39m.\u001b[39mhtml\n",
      "\u001b[1;31mAttributeError\u001b[0m: 'NoneType' object has no attribute 'render'"
     ]
    }
   ],
   "source": [
    "net.show_buttons(filter_=['physics'])\n",
    "net.show('test.html')"
   ]
  }
 ],
 "metadata": {
  "interpreter": {
   "hash": "544d461c25347ad10c75650b25efef490e0e5346865394ce39aec6eefe680ba4"
  },
  "kernelspec": {
   "display_name": "Python 3.9.6 64-bit",
   "language": "python",
   "name": "python3"
  },
  "language_info": {
   "codemirror_mode": {
    "name": "ipython",
    "version": 3
   },
   "file_extension": ".py",
   "mimetype": "text/x-python",
   "name": "python",
   "nbconvert_exporter": "python",
   "pygments_lexer": "ipython3",
   "version": "3.11.2"
  },
  "orig_nbformat": 4
 },
 "nbformat": 4,
 "nbformat_minor": 2
}

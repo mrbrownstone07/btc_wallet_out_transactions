{
 "cells": [
  {
   "cell_type": "code",
   "execution_count": 4,
   "metadata": {},
   "outputs": [],
   "source": [
    "import json\n",
    "import pandas as pd\n",
    "import requests\n",
    "import time\n",
    "import datetime"
   ]
  },
  {
   "cell_type": "code",
   "execution_count": 2,
   "metadata": {},
   "outputs": [],
   "source": [
    "wallet_address = 'bc1q4fdqv7z8mqk73rtgzk7qdxnzw675320gjar6xx'\n",
    "api_url = 'https://blockchain.info'\n",
    "api_end_point = 'rawaddr'"
   ]
  },
  {
   "cell_type": "code",
   "execution_count": 5,
   "metadata": {},
   "outputs": [
    {
     "data": {
      "text/plain": [
       "<Response [200]>"
      ]
     },
     "execution_count": 5,
     "metadata": {},
     "output_type": "execute_result"
    }
   ],
   "source": [
    "url = f'{api_url}/{api_end_point}/{wallet_address}'\n",
    "response = requests.get(url)\n",
    "response"
   ]
  },
  {
   "cell_type": "code",
   "execution_count": 6,
   "metadata": {},
   "outputs": [
    {
     "data": {
      "text/plain": [
       "1653"
      ]
     },
     "execution_count": 6,
     "metadata": {},
     "output_type": "execute_result"
    }
   ],
   "source": [
    "response_body = response.json()\n",
    "TX_COUNT = response_body['n_tx']\n",
    "TX_COUNT"
   ]
  },
  {
   "cell_type": "code",
   "execution_count": 7,
   "metadata": {},
   "outputs": [
    {
     "data": {
      "text/plain": [
       "15"
      ]
     },
     "execution_count": 7,
     "metadata": {},
     "output_type": "execute_result"
    }
   ],
   "source": [
    "ITERATIONS = int(TX_COUNT / 100) - 1\n",
    "ITERATIONS"
   ]
  },
  {
   "cell_type": "code",
   "execution_count": 19,
   "metadata": {},
   "outputs": [
    {
     "name": "stdout",
     "output_type": "stream",
     "text": [
      "100\n",
      "requesting: https://blockchain.info/rawaddr/bc1q4fdqv7z8mqk73rtgzk7qdxnzw675320gjar6xx?format=json&offset=100\n",
      "200\n",
      "requesting: https://blockchain.info/rawaddr/bc1q4fdqv7z8mqk73rtgzk7qdxnzw675320gjar6xx?format=json&offset=200\n",
      "300\n",
      "requesting: https://blockchain.info/rawaddr/bc1q4fdqv7z8mqk73rtgzk7qdxnzw675320gjar6xx?format=json&offset=300\n",
      "400\n",
      "requesting: https://blockchain.info/rawaddr/bc1q4fdqv7z8mqk73rtgzk7qdxnzw675320gjar6xx?format=json&offset=400\n",
      "500\n",
      "requesting: https://blockchain.info/rawaddr/bc1q4fdqv7z8mqk73rtgzk7qdxnzw675320gjar6xx?format=json&offset=500\n",
      "600\n",
      "requesting: https://blockchain.info/rawaddr/bc1q4fdqv7z8mqk73rtgzk7qdxnzw675320gjar6xx?format=json&offset=600\n",
      "700\n",
      "requesting: https://blockchain.info/rawaddr/bc1q4fdqv7z8mqk73rtgzk7qdxnzw675320gjar6xx?format=json&offset=700\n",
      "800\n",
      "requesting: https://blockchain.info/rawaddr/bc1q4fdqv7z8mqk73rtgzk7qdxnzw675320gjar6xx?format=json&offset=800\n",
      "900\n",
      "requesting: https://blockchain.info/rawaddr/bc1q4fdqv7z8mqk73rtgzk7qdxnzw675320gjar6xx?format=json&offset=900\n",
      "1000\n",
      "requesting: https://blockchain.info/rawaddr/bc1q4fdqv7z8mqk73rtgzk7qdxnzw675320gjar6xx?format=json&offset=1000\n",
      "1100\n",
      "requesting: https://blockchain.info/rawaddr/bc1q4fdqv7z8mqk73rtgzk7qdxnzw675320gjar6xx?format=json&offset=1100\n",
      "1200\n",
      "requesting: https://blockchain.info/rawaddr/bc1q4fdqv7z8mqk73rtgzk7qdxnzw675320gjar6xx?format=json&offset=1200\n",
      "1300\n",
      "requesting: https://blockchain.info/rawaddr/bc1q4fdqv7z8mqk73rtgzk7qdxnzw675320gjar6xx?format=json&offset=1300\n",
      "1400\n",
      "requesting: https://blockchain.info/rawaddr/bc1q4fdqv7z8mqk73rtgzk7qdxnzw675320gjar6xx?format=json&offset=1400\n",
      "1500\n",
      "requesting: https://blockchain.info/rawaddr/bc1q4fdqv7z8mqk73rtgzk7qdxnzw675320gjar6xx?format=json&offset=1500\n",
      "1600\n",
      "requesting: https://blockchain.info/rawaddr/bc1q4fdqv7z8mqk73rtgzk7qdxnzw675320gjar6xx?format=json&offset=1600\n"
     ]
    }
   ],
   "source": [
    "transactions_df = None\n",
    "i = 0\n",
    "offset = 0\n",
    "url = f'{api_url}/{api_end_point}/{wallet_address}?format=json&offset={offset}'\n",
    "wallet = pd.read_json(url)\n",
    "transactions_df = wallet['txs']\n",
    "transactions_df.to_json(f'tx{offset}.json')\n",
    "value = 30\n",
    "while i <= ITERATIONS:\n",
    "    offset = offset + 100\n",
    "    print(offset)\n",
    "    url = f'{api_url}/{api_end_point}/{wallet_address}?format=json&offset={offset}'\n",
    "    print(f'requesting: {url}')\n",
    "    wallet = pd.read_json(url)\n",
    "    transactions_df = wallet['txs']\n",
    "    transactions_df.to_json(f'tx{offset}.json')\n",
    "    i = i + 1\n",
    "    time.sleep(value)\n"
   ]
  },
  {
   "cell_type": "code",
   "execution_count": 8,
   "metadata": {},
   "outputs": [
    {
     "name": "stdout",
     "output_type": "stream",
     "text": [
      "opeing file tx0.json\n",
      "opeing file tx100.json\n",
      "opeing file tx200.json\n",
      "opeing file tx300.json\n",
      "opeing file tx400.json\n",
      "opeing file tx500.json\n",
      "opeing file tx600.json\n",
      "opeing file tx700.json\n",
      "opeing file tx800.json\n",
      "opeing file tx900.json\n",
      "opeing file tx1000.json\n",
      "opeing file tx1100.json\n",
      "opeing file tx1200.json\n",
      "opeing file tx1300.json\n",
      "opeing file tx1400.json\n",
      "opeing file tx1500.json\n"
     ]
    }
   ],
   "source": [
    "i = 0\n",
    "out_transactions_data = []\n",
    "while i <= ITERATIONS:\n",
    "    f_name = f'tx{i*100}.json'\n",
    "    print(f'opeing file {f_name}')\n",
    "    file = open(f_name, 'r')\n",
    "    txs = json.load(file)\n",
    "    address = 'bc1q4fdqv7z8mqk73rtgzk7qdxnzw675320gjar6xx'\n",
    "    \n",
    "    for index in txs:\n",
    "        tx = txs[index]\n",
    "        tx_hash = tx['hash']\n",
    "        tx_time = datetime.datetime.fromtimestamp(tx['time'])\n",
    "        inputs = tx['inputs']\n",
    "        outs = tx['out']\n",
    "        is_out_tx = False\n",
    "        tx_amount = 0\n",
    "\n",
    "        for input in inputs:\n",
    "            prev = input['prev_out']\n",
    "            if prev['addr'] == address:\n",
    "                is_out_tx= True\n",
    "\n",
    "        if is_out_tx:\n",
    "            out_tx = outs[0]\n",
    "            tx_amount = float(out_tx['value']) * 0.00000001\n",
    "            out_tx_address = out_tx['addr']\n",
    "            # print(f'{tx_hash}, {tx_time}, {address}, {tx_amount}, {out_tx_address}')\n",
    "            out_transactions_data.append([tx_hash, tx_time, address, tx_amount, out_tx_address])\n",
    "\n",
    "    i = i + 1"
   ]
  },
  {
   "cell_type": "code",
   "execution_count": 9,
   "metadata": {},
   "outputs": [
    {
     "data": {
      "text/html": [
       "<div>\n",
       "<style scoped>\n",
       "    .dataframe tbody tr th:only-of-type {\n",
       "        vertical-align: middle;\n",
       "    }\n",
       "\n",
       "    .dataframe tbody tr th {\n",
       "        vertical-align: top;\n",
       "    }\n",
       "\n",
       "    .dataframe thead th {\n",
       "        text-align: right;\n",
       "    }\n",
       "</style>\n",
       "<table border=\"1\" class=\"dataframe\">\n",
       "  <thead>\n",
       "    <tr style=\"text-align: right;\">\n",
       "      <th></th>\n",
       "      <th>tx_hash</th>\n",
       "      <th>tx_date_time</th>\n",
       "      <th>from_addr</th>\n",
       "      <th>amount</th>\n",
       "      <th>to_addr</th>\n",
       "    </tr>\n",
       "  </thead>\n",
       "  <tbody>\n",
       "    <tr>\n",
       "      <th>0</th>\n",
       "      <td>53392049d344b4f016d3560dece5765d43e42bdfb181ff...</td>\n",
       "      <td>2021-12-25 05:17:20</td>\n",
       "      <td>bc1q4fdqv7z8mqk73rtgzk7qdxnzw675320gjar6xx</td>\n",
       "      <td>0.001008</td>\n",
       "      <td>bc1qlx09ds46r0l54t0aawn79x5t9mef2sj9dk2ce7</td>\n",
       "    </tr>\n",
       "    <tr>\n",
       "      <th>1</th>\n",
       "      <td>52b4599f00e6c75d6c454f3ae6c29097dbe3eba8a9d248...</td>\n",
       "      <td>2021-12-12 15:51:53</td>\n",
       "      <td>bc1q4fdqv7z8mqk73rtgzk7qdxnzw675320gjar6xx</td>\n",
       "      <td>0.000443</td>\n",
       "      <td>3DscuRBWfD927YKHnd17pzAdeRSXApaeM6</td>\n",
       "    </tr>\n",
       "    <tr>\n",
       "      <th>2</th>\n",
       "      <td>91a51216ce148b2a7636db67e1725ea53d1b133947e11b...</td>\n",
       "      <td>2021-12-08 07:27:00</td>\n",
       "      <td>bc1q4fdqv7z8mqk73rtgzk7qdxnzw675320gjar6xx</td>\n",
       "      <td>0.009322</td>\n",
       "      <td>bc1qs3uxa3686702x4mpx2tt2y99s65n706yun5ey3</td>\n",
       "    </tr>\n",
       "    <tr>\n",
       "      <th>3</th>\n",
       "      <td>f8293c5e6ed4febe48294eaebcce91a0721cd2680e9118...</td>\n",
       "      <td>2021-12-08 07:27:00</td>\n",
       "      <td>bc1q4fdqv7z8mqk73rtgzk7qdxnzw675320gjar6xx</td>\n",
       "      <td>0.009322</td>\n",
       "      <td>bc1qs3uxa3686702x4mpx2tt2y99s65n706yun5ey3</td>\n",
       "    </tr>\n",
       "    <tr>\n",
       "      <th>4</th>\n",
       "      <td>dbddbf8e66ab74dbe53164fa77d9cb770dbaddf4e92e9b...</td>\n",
       "      <td>2021-12-08 07:27:00</td>\n",
       "      <td>bc1q4fdqv7z8mqk73rtgzk7qdxnzw675320gjar6xx</td>\n",
       "      <td>0.009322</td>\n",
       "      <td>bc1qs3uxa3686702x4mpx2tt2y99s65n706yun5ey3</td>\n",
       "    </tr>\n",
       "    <tr>\n",
       "      <th>...</th>\n",
       "      <td>...</td>\n",
       "      <td>...</td>\n",
       "      <td>...</td>\n",
       "      <td>...</td>\n",
       "      <td>...</td>\n",
       "    </tr>\n",
       "    <tr>\n",
       "      <th>465</th>\n",
       "      <td>87d876acff810967d9bc8caeb7aa3be5de776cc0e3cb6a...</td>\n",
       "      <td>2021-01-05 06:56:11</td>\n",
       "      <td>bc1q4fdqv7z8mqk73rtgzk7qdxnzw675320gjar6xx</td>\n",
       "      <td>0.047795</td>\n",
       "      <td>bc1q5j5ddxy08jxdg9zcj7gdd3x34dkq9c79cnje46</td>\n",
       "    </tr>\n",
       "    <tr>\n",
       "      <th>466</th>\n",
       "      <td>321c1d4099f67f79bfb70c5b3d2ca7a05e4645f3148db7...</td>\n",
       "      <td>2021-01-04 20:53:04</td>\n",
       "      <td>bc1q4fdqv7z8mqk73rtgzk7qdxnzw675320gjar6xx</td>\n",
       "      <td>0.005987</td>\n",
       "      <td>37ryD6EVu7EnKqGRL1SGVNcyS13xngdEnB</td>\n",
       "    </tr>\n",
       "    <tr>\n",
       "      <th>467</th>\n",
       "      <td>ad929420eb2748a785a76ae555e6e59c72641d0bc56222...</td>\n",
       "      <td>2021-01-04 20:53:04</td>\n",
       "      <td>bc1q4fdqv7z8mqk73rtgzk7qdxnzw675320gjar6xx</td>\n",
       "      <td>0.003602</td>\n",
       "      <td>1GBvTTuLgvQ1DxbbiRD4BDyumWd5jkwQy9</td>\n",
       "    </tr>\n",
       "    <tr>\n",
       "      <th>468</th>\n",
       "      <td>ab6433eebec9f195437b8489ca0e31ab069ffd34b943f7...</td>\n",
       "      <td>2021-01-04 20:53:04</td>\n",
       "      <td>bc1q4fdqv7z8mqk73rtgzk7qdxnzw675320gjar6xx</td>\n",
       "      <td>0.001200</td>\n",
       "      <td>3DvuaGTyug586Rbuk38PRCXpoA3XEqVs5B</td>\n",
       "    </tr>\n",
       "    <tr>\n",
       "      <th>469</th>\n",
       "      <td>e10f55e6ef80e6d5db47c60cb90dcf0deaba9d1b5e92d2...</td>\n",
       "      <td>2021-01-04 20:53:04</td>\n",
       "      <td>bc1q4fdqv7z8mqk73rtgzk7qdxnzw675320gjar6xx</td>\n",
       "      <td>0.001900</td>\n",
       "      <td>bc1qvhn97f99gylj4w7dhw2la33h6fg8ttffyk9qhz</td>\n",
       "    </tr>\n",
       "  </tbody>\n",
       "</table>\n",
       "<p>470 rows × 5 columns</p>\n",
       "</div>"
      ],
      "text/plain": [
       "                                               tx_hash        tx_date_time  \\\n",
       "0    53392049d344b4f016d3560dece5765d43e42bdfb181ff... 2021-12-25 05:17:20   \n",
       "1    52b4599f00e6c75d6c454f3ae6c29097dbe3eba8a9d248... 2021-12-12 15:51:53   \n",
       "2    91a51216ce148b2a7636db67e1725ea53d1b133947e11b... 2021-12-08 07:27:00   \n",
       "3    f8293c5e6ed4febe48294eaebcce91a0721cd2680e9118... 2021-12-08 07:27:00   \n",
       "4    dbddbf8e66ab74dbe53164fa77d9cb770dbaddf4e92e9b... 2021-12-08 07:27:00   \n",
       "..                                                 ...                 ...   \n",
       "465  87d876acff810967d9bc8caeb7aa3be5de776cc0e3cb6a... 2021-01-05 06:56:11   \n",
       "466  321c1d4099f67f79bfb70c5b3d2ca7a05e4645f3148db7... 2021-01-04 20:53:04   \n",
       "467  ad929420eb2748a785a76ae555e6e59c72641d0bc56222... 2021-01-04 20:53:04   \n",
       "468  ab6433eebec9f195437b8489ca0e31ab069ffd34b943f7... 2021-01-04 20:53:04   \n",
       "469  e10f55e6ef80e6d5db47c60cb90dcf0deaba9d1b5e92d2... 2021-01-04 20:53:04   \n",
       "\n",
       "                                      from_addr    amount  \\\n",
       "0    bc1q4fdqv7z8mqk73rtgzk7qdxnzw675320gjar6xx  0.001008   \n",
       "1    bc1q4fdqv7z8mqk73rtgzk7qdxnzw675320gjar6xx  0.000443   \n",
       "2    bc1q4fdqv7z8mqk73rtgzk7qdxnzw675320gjar6xx  0.009322   \n",
       "3    bc1q4fdqv7z8mqk73rtgzk7qdxnzw675320gjar6xx  0.009322   \n",
       "4    bc1q4fdqv7z8mqk73rtgzk7qdxnzw675320gjar6xx  0.009322   \n",
       "..                                          ...       ...   \n",
       "465  bc1q4fdqv7z8mqk73rtgzk7qdxnzw675320gjar6xx  0.047795   \n",
       "466  bc1q4fdqv7z8mqk73rtgzk7qdxnzw675320gjar6xx  0.005987   \n",
       "467  bc1q4fdqv7z8mqk73rtgzk7qdxnzw675320gjar6xx  0.003602   \n",
       "468  bc1q4fdqv7z8mqk73rtgzk7qdxnzw675320gjar6xx  0.001200   \n",
       "469  bc1q4fdqv7z8mqk73rtgzk7qdxnzw675320gjar6xx  0.001900   \n",
       "\n",
       "                                        to_addr  \n",
       "0    bc1qlx09ds46r0l54t0aawn79x5t9mef2sj9dk2ce7  \n",
       "1            3DscuRBWfD927YKHnd17pzAdeRSXApaeM6  \n",
       "2    bc1qs3uxa3686702x4mpx2tt2y99s65n706yun5ey3  \n",
       "3    bc1qs3uxa3686702x4mpx2tt2y99s65n706yun5ey3  \n",
       "4    bc1qs3uxa3686702x4mpx2tt2y99s65n706yun5ey3  \n",
       "..                                          ...  \n",
       "465  bc1q5j5ddxy08jxdg9zcj7gdd3x34dkq9c79cnje46  \n",
       "466          37ryD6EVu7EnKqGRL1SGVNcyS13xngdEnB  \n",
       "467          1GBvTTuLgvQ1DxbbiRD4BDyumWd5jkwQy9  \n",
       "468          3DvuaGTyug586Rbuk38PRCXpoA3XEqVs5B  \n",
       "469  bc1qvhn97f99gylj4w7dhw2la33h6fg8ttffyk9qhz  \n",
       "\n",
       "[470 rows x 5 columns]"
      ]
     },
     "execution_count": 9,
     "metadata": {},
     "output_type": "execute_result"
    }
   ],
   "source": [
    "result = pd.DataFrame(out_transactions_data, columns=['tx_hash', 'tx_date_time', 'from_addr', 'amount', 'to_addr'])\n",
    "result"
   ]
  },
  {
   "cell_type": "code",
   "execution_count": 11,
   "metadata": {},
   "outputs": [
    {
     "data": {
      "text/plain": [
       "9.136901310000002"
      ]
     },
     "execution_count": 11,
     "metadata": {},
     "output_type": "execute_result"
    }
   ],
   "source": [
    "result['amount'].sum()"
   ]
  },
  {
   "cell_type": "code",
   "execution_count": 19,
   "metadata": {},
   "outputs": [],
   "source": [
    "result.to_csv('bc1q4fdqv7z8mqk73rtgzk7qdxnzw675320gjar6xx_out_trx_data.csv', sep=';', index=False)"
   ]
  },
  {
   "cell_type": "code",
   "execution_count": 23,
   "metadata": {},
   "outputs": [
    {
     "data": {
      "text/plain": [
       "9.136901310000002"
      ]
     },
     "execution_count": 23,
     "metadata": {},
     "output_type": "execute_result"
    }
   ],
   "source": []
  }
 ],
 "metadata": {
  "interpreter": {
   "hash": "544d461c25347ad10c75650b25efef490e0e5346865394ce39aec6eefe680ba4"
  },
  "kernelspec": {
   "display_name": "Python 3.9.6 64-bit",
   "language": "python",
   "name": "python3"
  },
  "language_info": {
   "codemirror_mode": {
    "name": "ipython",
    "version": 3
   },
   "file_extension": ".py",
   "mimetype": "text/x-python",
   "name": "python",
   "nbconvert_exporter": "python",
   "pygments_lexer": "ipython3",
   "version": "3.9.6"
  },
  "orig_nbformat": 4
 },
 "nbformat": 4,
 "nbformat_minor": 2
}
